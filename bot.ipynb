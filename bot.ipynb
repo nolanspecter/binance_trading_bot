{
 "cells": [
  {
   "cell_type": "code",
   "execution_count": 2,
   "metadata": {},
   "outputs": [],
   "source": [
    "import pandas as pd\n",
    "import numpy as np\n",
    "import ta\n",
    "from binance import Client\n",
    "from key import PUB_KEY, SEC_KEY"
   ]
  },
  {
   "cell_type": "code",
   "execution_count": 14,
   "metadata": {},
   "outputs": [],
   "source": [
    "# Connecting to Binance\n",
    "client = Client(PUB_KEY, SEC_KEY)\n",
    "# Get historical data\n",
    "df = pd.DataFrame(client.get_historical_klines('BTCUSDT',\n",
    "                             Client.KLINE_INTERVAL_1MINUTE,\n",
    "                                      str(500) + ' minutes ago UTC'))\n",
    "\n",
    "# First 6 column represent Time and OHLCV values\n",
    "df = df.iloc[:, :6]\n",
    "df.columns = ['Time', 'Open', 'High', 'Low', 'Close', 'Volume']\n",
    "\n",
    "# Convert first column into datetime\n",
    "df['Time'] = pd.to_datetime(df['Time'], unit='ms')\n",
    "\n",
    "# Set Time as index\n",
    "df.set_index('Time', inplace=True)"
   ]
  },
  {
   "cell_type": "code",
   "execution_count": null,
   "metadata": {},
   "outputs": [],
   "source": []
  }
 ],
 "metadata": {
  "kernelspec": {
   "display_name": "Python 3",
   "language": "python",
   "name": "python3"
  },
  "language_info": {
   "codemirror_mode": {
    "name": "ipython",
    "version": 3
   },
   "file_extension": ".py",
   "mimetype": "text/x-python",
   "name": "python",
   "nbconvert_exporter": "python",
   "pygments_lexer": "ipython3",
   "version": "3.10.11"
  }
 },
 "nbformat": 4,
 "nbformat_minor": 2
}
